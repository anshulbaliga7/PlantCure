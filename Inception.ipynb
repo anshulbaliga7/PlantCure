{
 "cells": [
  {
   "cell_type": "code",
   "execution_count": 1,
   "metadata": {},
   "outputs": [
    {
     "name": "stdout",
     "output_type": "stream",
     "text": [
      "Found 8999 images belonging to 8 classes.\n",
      "Found 800 images belonging to 8 classes.\n"
     ]
    }
   ],
   "source": [
    "import tensorflow as tf\n",
    "import keras_preprocessing\n",
    "from keras_preprocessing import image\n",
    "from keras_preprocessing.image import ImageDataGenerator\n",
    "import shutil\n",
    "import cv2\n",
    "TRAINING_DIR = \"Train\"\n",
    "\n",
    "training_datagen = ImageDataGenerator(rescale = 1./255,\n",
    "                                      horizontal_flip=True,\n",
    "\t\t\t\t\t\t\t\t\t\t\t\t\t\t\t\t\t\t\trotation_range=30,\n",
    "\t\t\t\t\t\t\t\t\t\t\t\t\t\t\t\t\t\t\theight_shift_range=0.2,\n",
    "                                      fill_mode='nearest')\n",
    "\n",
    "VALIDATION_DIR = \"Test\"\n",
    "validation_datagen = ImageDataGenerator(rescale = 1./255)\n",
    "\n",
    "train_generator = training_datagen.flow_from_directory(\n",
    "\tTRAINING_DIR,\n",
    "\ttarget_size=(256,256),\n",
    "\tclass_mode='categorical',\n",
    "  batch_size = 32\n",
    ")\n",
    "\n",
    "validation_generator = validation_datagen.flow_from_directory(\n",
    "\tVALIDATION_DIR,\n",
    "\ttarget_size=(256,256),\n",
    "\tclass_mode='categorical',\n",
    "  batch_size= 32\n",
    ")"
   ]
  },
  {
   "cell_type": "code",
   "execution_count": 2,
   "metadata": {},
   "outputs": [
    {
     "name": "stdout",
     "output_type": "stream",
     "text": [
      "Model: \"sequential\"\n",
      "_________________________________________________________________\n",
      " Layer (type)                Output Shape              Param #   \n",
      "=================================================================\n",
      " conv2d (Conv2D)             (None, 62, 62, 96)        34944     \n",
      "                                                                 \n",
      " max_pooling2d (MaxPooling2D  (None, 30, 30, 96)       0         \n",
      " )                                                               \n",
      "                                                                 \n",
      " conv2d_1 (Conv2D)           (None, 26, 26, 256)       614656    \n",
      "                                                                 \n",
      " max_pooling2d_1 (MaxPooling  (None, 12, 12, 256)      0         \n",
      " 2D)                                                             \n",
      "                                                                 \n",
      " conv2d_2 (Conv2D)           (None, 8, 8, 384)         2457984   \n",
      "                                                                 \n",
      " max_pooling2d_2 (MaxPooling  (None, 3, 3, 384)        0         \n",
      " 2D)                                                             \n",
      "                                                                 \n",
      " flatten (Flatten)           (None, 3456)              0         \n",
      "                                                                 \n",
      " dropout (Dropout)           (None, 3456)              0         \n",
      "                                                                 \n",
      " dense (Dense)               (None, 2048)              7079936   \n",
      "                                                                 \n",
      " dropout_1 (Dropout)         (None, 2048)              0         \n",
      "                                                                 \n",
      " dense_1 (Dense)             (None, 1024)              2098176   \n",
      "                                                                 \n",
      " dropout_2 (Dropout)         (None, 1024)              0         \n",
      "                                                                 \n",
      " dense_2 (Dense)             (None, 8)                 8200      \n",
      "                                                                 \n",
      "=================================================================\n",
      "Total params: 12,293,896\n",
      "Trainable params: 12,293,896\n",
      "Non-trainable params: 0\n",
      "_________________________________________________________________\n"
     ]
    },
    {
     "name": "stderr",
     "output_type": "stream",
     "text": [
      "c:\\Users\\Anirudh\\AppData\\Local\\Programs\\Python\\Python39\\lib\\site-packages\\keras\\optimizers\\optimizer_v2\\adam.py:110: UserWarning: The `lr` argument is deprecated, use `learning_rate` instead.\n",
      "  super(Adam, self).__init__(name, **kwargs)\n"
     ]
    }
   ],
   "source": [
    "from tensorflow.keras.optimizers import RMSprop,Adam\n",
    "model = tf.keras.models.Sequential([\n",
    "          tf.keras.layers.Conv2D(96, (11,11), strides=(4,4), activation='relu', input_shape=(256, 256, 3)),\n",
    "          tf.keras.layers.MaxPooling2D(pool_size = (3,3), strides=(2,2)),\n",
    "          tf.keras.layers.Conv2D(256, (5,5), activation='relu'),\n",
    "          tf.keras.layers.MaxPooling2D(pool_size = (3,3), strides=(2,2)),\n",
    "          tf.keras.layers.Conv2D(384, (5,5), activation='relu'),\n",
    "          tf.keras.layers.MaxPooling2D(pool_size = (3,3), strides=(2,2)),\n",
    "          tf.keras.layers.Flatten(),\n",
    "          tf.keras.layers.Dropout(0.2),\n",
    "          tf.keras.layers.Dense(2048, activation='relu'),\n",
    "          tf.keras.layers.Dropout(0.25),\n",
    "          tf.keras.layers.Dense(1024, activation='relu'),\n",
    "          tf.keras.layers.Dropout(0.2),\n",
    "          tf.keras.layers.Dense(8, activation='softmax')\n",
    "])\n",
    "model.compile(loss='categorical_crossentropy',\n",
    "              optimizer=Adam(lr=0.0001),\n",
    "              metrics=['acc'])\n",
    "model.summary()"
   ]
  },
  {
   "cell_type": "code",
   "execution_count": 3,
   "metadata": {},
   "outputs": [
    {
     "name": "stdout",
     "output_type": "stream",
     "text": [
      "Epoch 1/20\n",
      "  4/125 [..............................] - ETA: 3:53 - loss: 2.0526 - acc: 0.1719"
     ]
    }
   ],
   "source": [
    "# class myCallback(tf.keras.callbacks.Callback):\n",
    "#   def on_epoch_end(self, epoch, logs={}):\n",
    "#     if(logs.get('val_acc')>=0.98):\n",
    "#       print('\\nReached ^98%')\n",
    "#       self.model.stop_training = True\n",
    "# callbacks = myCallback()\n",
    "\n",
    "history = model.fit(\n",
    "    train_generator,\n",
    "    steps_per_epoch = int(4000/32),\n",
    "    epochs = 20,\n",
    "    validation_data = validation_generator,\n",
    "    validation_steps = (1000)\n",
    "    #callbacks=[callbacks]\n",
    ")"
   ]
  },
  {
   "cell_type": "code",
   "execution_count": null,
   "metadata": {},
   "outputs": [],
   "source": [
    "model.save('my_model.h5')\n",
    "new_model = tf.keras.models.load_model('my_model.h5')"
   ]
  },
  {
   "cell_type": "code",
   "execution_count": null,
   "metadata": {},
   "outputs": [],
   "source": [
    "# %matplotlib inline\n",
    "# import matplotlib.pyplot as plt\n",
    "# acc = history.history['acc']\n",
    "# val_acc = history.history['val_acc']\n",
    "# loss = history.history['loss']\n",
    "# val_loss = history.history['val_loss']\n",
    "\n",
    "# epochs = range(len(acc))\n",
    "\n",
    "# plt.plot(epochs, acc, 'g', label='Training accuracy')\n",
    "# plt.plot(epochs, val_acc, 'b', label='Validation accuracy')\n",
    "# plt.title('Training and validation accuracy')\n",
    "# plt.legend(loc=0)\n",
    "# plt.figure()\n",
    "# plt.show()\n",
    "\n",
    "# plt.plot(epochs, loss, 'r', label='Training loss')\n",
    "# plt.plot(epochs, val_loss, 'orange', label='Validation loss')\n",
    "# plt.title('Training and validation loss')\n",
    "\n",
    "# plt.legend(loc=0)\n",
    "# plt.figure()\n",
    "# plt.show()"
   ]
  },
  {
   "cell_type": "code",
   "execution_count": null,
   "metadata": {},
   "outputs": [],
   "source": [
    "for fn in uploaded.keys():\n",
    "  path = '/content/' + fn\n",
    "  img = image.load_img(path, target_size=(224, 224))\n",
    "  x = image.img_to_array(img)\n",
    "  x = np.expand_dims(x, axis=0) /255\n",
    "  print(np.argmax(classes[0])==0, max(classes[0]))"
   ]
  },
  {
   "cell_type": "code",
   "execution_count": null,
   "metadata": {},
   "outputs": [],
   "source": [
    "\n",
    "import numpy as np\n",
    "cap=cv2.VideoCapture(0)\n",
    "\n",
    "ofile=open(\"out.txt\",\"w\")\n",
    "while True:\n",
    "      \n",
    "    _,frame=cap.read()\n",
    "    \n",
    "\n",
    "    cv2.imwrite(\"capture.jpg\",frame)\n",
    "    \n",
    "\n",
    "    \n",
    "    img = image.load_img(\"capture.jpg\", target_size=(224, 224))\n",
    "    \n",
    "    \n",
    "    x = image.img_to_array(img)\n",
    "    x = np.expand_dims(x, axis=0) /255\n",
    "    classes = model.predict(x)\n",
    "\n",
    "    if max(classes[0])*100>=80:\n",
    "      print(\"Fire!!!!!!!\")\n",
    "      img=cv2.putText(frame,str(classes),(10,230),cv2.FONT_HERSHEY_SIMPLEX,1,(0,255,0),2,cv2.LINE_AA)\n",
    "      cv2.imwrite(\"output.jpg\",img)\n",
    "      \n",
    "    else:\n",
    "      print(\"NO fire!!!!!!!!!!!\")\n",
    "      img=cv2.putText(frame,str(classes),(10,230),cv2.FONT_HERSHEY_SIMPLEX,1,(0,255,0),2,cv2.LINE_AA)\n",
    "      cv2.imwrite(\"output.jpg\",img)\n"
   ]
  },
  {
   "cell_type": "code",
   "execution_count": null,
   "metadata": {},
   "outputs": [],
   "source": [
    "import cv2\n",
    "import numpy as np\n",
    "from tensorflow import keras\n",
    "# from keras import load_model\n",
    "\n",
    "\n",
    "def model_predict(img_path, model):\n",
    "    \n",
    "    #update by ViPS\n",
    "    img = cv2.imread(img_path)\n",
    "    print(img.shape)\n",
    "    new_arr = np.reshape(img,(224,224,3))\n",
    "    # new_arr = np.\n",
    "    new_arr = np.array(new_arr/255)\n",
    "    new_arr = new_arr.reshape(1,256,256,3)\n",
    "    print(new_arr.shape)\n",
    "    \n",
    "    preds = model.predict(new_arr)\n",
    "    return preds\n",
    "\n",
    "model_predict('Test\\Apple_Scab\\image (902).JPG',keras.models.load_model(\"my_model.h5\"))"
   ]
  }
 ],
 "metadata": {
  "interpreter": {
   "hash": "cabcd3416b68d730d068734ccb826455f8a16596b9f78a151b5a2d572ef66055"
  },
  "kernelspec": {
   "display_name": "Python 3.9.13 64-bit",
   "language": "python",
   "name": "python3"
  },
  "language_info": {
   "codemirror_mode": {
    "name": "ipython",
    "version": 3
   },
   "file_extension": ".py",
   "mimetype": "text/x-python",
   "name": "python",
   "nbconvert_exporter": "python",
   "pygments_lexer": "ipython3",
   "version": "3.9.13"
  },
  "orig_nbformat": 4
 },
 "nbformat": 4,
 "nbformat_minor": 2
}
